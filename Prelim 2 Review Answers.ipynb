{
 "cells": [
  {
   "cell_type": "markdown",
   "metadata": {},
   "source": [
    "# Imperative Features\n",
    "\n",
    "For this section, just remember how to use imperative features (such as the ref keyword, defining a variable as mutable in records) and also know how they \"work\". The ref variables are still immutable, but it is the location of the variable in memory that is immutable in this case, rather than the value itself."
   ]
  },
  {
   "cell_type": "markdown",
   "metadata": {},
   "source": [
    "### Question 1\n",
    "Implement the mutable stack signature:"
   ]
  },
  {
   "cell_type": "code",
   "execution_count": 2,
   "metadata": {
    "collapsed": false
   },
   "outputs": [
    {
     "data": {
      "text/html": [
       "<pre style=\"color:slategray;max-height:100px;overflow:hidden\" \n",
       "onclick=\"\n",
       "if (this.style.maxHeight === 'none') \n",
       "    this.style.maxHeight = '100px';\n",
       "else\n",
       "    this.style.maxHeight = 'none'; \n",
       "\">module type Mutable_Stack =\n",
       "  sig\n",
       "    type 'a mstack\n",
       "    val empty : unit -&gt; 'a mstack\n",
       "    val push : 'a mstack -&gt; 'a -&gt; unit\n",
       "    val pop : 'a mstack -&gt; 'a option\n",
       "  end\n",
       "</pre>"
      ]
     },
     "execution_count": 2,
     "metadata": {},
     "output_type": "execute_result"
    }
   ],
   "source": [
    "module type Mutable_Stack = sig\n",
    "    type 'a mstack\n",
    "    val empty : unit -> 'a mstack\n",
    "    val push : 'a mstack -> 'a -> unit\n",
    "    val pop : 'a mstack -> 'a option\n",
    "end"
   ]
  },
  {
   "cell_type": "markdown",
   "metadata": {},
   "source": [
    "#### Answer"
   ]
  },
  {
   "cell_type": "code",
   "execution_count": 3,
   "metadata": {
    "collapsed": false
   },
   "outputs": [
    {
     "data": {
      "text/html": [
       "<pre style=\"color:slategray;max-height:100px;overflow:hidden\" \n",
       "onclick=\"\n",
       "if (this.style.maxHeight === 'none') \n",
       "    this.style.maxHeight = '100px';\n",
       "else\n",
       "    this.style.maxHeight = 'none'; \n",
       "\">module MutStack : Mutable_Stack\n",
       "</pre>"
      ]
     },
     "execution_count": 3,
     "metadata": {},
     "output_type": "execute_result"
    }
   ],
   "source": [
    "module MutStack : Mutable_Stack = struct \n",
    "    type 'a mstack = ('a list) ref\n",
    "    \n",
    "    let empty () = ref []\n",
    "    \n",
    "    let push stack element = \n",
    "        stack := (element::!stack)\n",
    "        \n",
    "    let pop stack = \n",
    "        match (!stack) with \n",
    "            | [] -> None \n",
    "            | h::t -> stack := t; Some h\n",
    "end"
   ]
  },
  {
   "cell_type": "markdown",
   "metadata": {},
   "source": [
    "To see it in action"
   ]
  },
  {
   "cell_type": "code",
   "execution_count": 5,
   "metadata": {
    "collapsed": false
   },
   "outputs": [
    {
     "data": {
      "text/html": [
       "<pre style=\"color:slategray;max-height:100px;overflow:hidden\" \n",
       "onclick=\"\n",
       "if (this.style.maxHeight === 'none') \n",
       "    this.style.maxHeight = '100px';\n",
       "else\n",
       "    this.style.maxHeight = 'none'; \n",
       "\">- : int option = Some 6\n",
       "</pre>"
      ]
     },
     "execution_count": 5,
     "metadata": {},
     "output_type": "execute_result"
    }
   ],
   "source": [
    "let s = MutStack.empty () in \n",
    "let () = MutStack.push s 5 in \n",
    "let () = MutStack.push s 6 in \n",
    "MutStack.pop s"
   ]
  },
  {
   "cell_type": "markdown",
   "metadata": {
    "collapsed": true
   },
   "source": [
    "### Question 2\n",
    "Define the factorial function without using any loops and without the rec keyword."
   ]
  },
  {
   "cell_type": "markdown",
   "metadata": {
    "collapsed": true
   },
   "source": [
    "#### Answer"
   ]
  },
  {
   "cell_type": "code",
   "execution_count": 15,
   "metadata": {
    "collapsed": false
   },
   "outputs": [
    {
     "data": {
      "text/html": [
       "<pre style=\"color:slategray;max-height:100px;overflow:hidden\" \n",
       "onclick=\"\n",
       "if (this.style.maxHeight === 'none') \n",
       "    this.style.maxHeight = '100px';\n",
       "else\n",
       "    this.style.maxHeight = 'none'; \n",
       "\">val fact : int -&gt; int = &lt;fun&gt;\n",
       "</pre>"
      ]
     },
     "execution_count": 15,
     "metadata": {},
     "output_type": "execute_result"
    },
    {
     "data": {
      "text/html": [
       "<pre style=\"color:slategray;max-height:100px;overflow:hidden\" \n",
       "onclick=\"\n",
       "if (this.style.maxHeight === 'none') \n",
       "    this.style.maxHeight = '100px';\n",
       "else\n",
       "    this.style.maxHeight = 'none'; \n",
       "\">val x : int = 6\n",
       "</pre>"
      ]
     },
     "execution_count": 15,
     "metadata": {},
     "output_type": "execute_result"
    }
   ],
   "source": [
    "let fact = \n",
    "let f0 = ref(fun x -> x) in \n",
    "let f x = if x <= 1 then 1 else x * !f0 (x - 1) in \n",
    "let () = f0 := f in \n",
    "!f0\n",
    "\n",
    "let x = fact 3"
   ]
  },
  {
   "cell_type": "markdown",
   "metadata": {},
   "source": [
    "# Substitution Model\n",
    "\n",
    "Key things for this section -- just remember the rules and how to apply them. Also, if you were given a completely new rule-set, know how to use those rules"
   ]
  },
  {
   "cell_type": "markdown",
   "metadata": {},
   "source": [
    "### Question 3\n",
    "\n",
    "Evaluate the following using the substitution model:\n",
    "\n",
    "```OCaml\n",
    "let f = fun x -> x + x in let x = 1 in let g = fun y -> x + f y in g 3\n",
    "```"
   ]
  },
  {
   "cell_type": "markdown",
   "metadata": {},
   "source": [
    "#### Answer\n",
    "\n",
    "Just following the rules in the notes:\n",
    "\n",
    "```OCaml\n",
    "let f = (fun x -> fun y -> x + y) in let g = f 3 in g 1 + (f 2 3)\n",
    "--> let g = f 3 in g 1 + (f 2 3) {fun x -> fun y -> x + y / f} = \n",
    "    let g = (fun x -> fun y -> x + y) in g 1 + ((fun x -> fun y -> x + y) 2 3)\n",
    "--> let g = fun y -> x + y {3 / x} in g 1 + ((fun x -> fun y -> x + y) 2 3) = let g -> fun y -> 3 + y in g 1 + ((fun x -> fun y -> x + y) 2 3)\n",
    "--> g 1 + ((fun x -> fun y -> x + y) 2 3) {fun y -> 3 + y / g } = (fun y -> 3 + y) 1 + ((fun x -> fun y + x + y) 2 3)\n",
    "--> (3 + y {1/y}) + ((fun x -> fun y + x + y) 2 3) = 3 + 1 + ((fun x -> fun y + x + y) 2 3)\n",
    "--> 4 + ((fun x -> fun y -> x + y) 2 3)\n",
    "--> 4 + ((fun y -> x + y) {2 / x} 3) = 4 + ((fun y -> 2 + y) 3)\n",
    "--> 4 + (2 + y) {3 / y} = 4 + (2 + 3)\n",
    "--> 4 + 5\n",
    "--> 9\n",
    "```"
   ]
  },
  {
   "cell_type": "markdown",
   "metadata": {},
   "source": [
    "# Environment Model\n",
    "\n",
    "Same as above. Know the rules, how to apply them, and the different steps"
   ]
  },
  {
   "cell_type": "markdown",
   "metadata": {},
   "source": [
    "### Question 4\n",
    "Evaluate the following using the environment model:\n",
    "```OCaml\n",
    "let f = fun x -> fun y -> x + y in let g = f 3 in g 2\n",
    "```"
   ]
  },
  {
   "cell_type": "markdown",
   "metadata": {},
   "source": [
    "#### Answer\n",
    "Just following the rules in the notes:\n",
    "```OCaml\n",
    "<[], let f = fun x -> fun y -> x + y in let g = f 3 in g 2> ==> 5\n",
    "\t\tbecause <[], fun x -> fun y -> x + y> ==> {fun x -> fun y -> x + y | []}\n",
    "\t\tand <[f->{fun x -> fun y -> x + y | []}], let g = f 3 in g 2> ==> 5\n",
    "\t\t\tbecause <[f -> {fun x -> fun y -> x + y | []}], f 3> ==> {fun y -> x + y | [x->3]}\n",
    "\t\t\t\tbecause <[f->{fun x -> fun y -> x + y | []}], f> ==> {fun x -> fun y -> x + y | []}\n",
    "\t\t\t\tand <[f->{fun x -> fun y -> x + y | []}], 3> ==> 3\n",
    "\t\t\t\tand <[x->3], fun y -> x + y> ==> {fun y -> x + y | [x->3]}\n",
    "\t\t\tand <[f->{fun x -> fun y -> x + y | []};g->{fun y-> x + y | [x->3]], g 2> ==> 5\n",
    "\t\t\t\tbecause < [f->{fun x -> fun y -> x + y | []};g->{fun y-> x + y | [x->3]], g> ==> {fun y -> x + y | [x->3]}\n",
    "\t\t\t\tand <[f->{fun x -> fun y -> x + y | []};g->{fun y-> x + y | [x->3]], 2> ==> 2\n",
    "\t\t\t\tand <[y->2;x->3], x + y> ==> 5\n",
    "\t\t\t\t\tbecause <[y->2;x->3], x> ==> 3\n",
    "\t\t\t\t\t\tbecause env(x) ==> 3\n",
    "\t\t\t\t\tand <[y->2;x->3],y> ==> 2\n",
    "\t\t\t\t\t\tbecause env(y) ==> 2\n",
    "\t\t\t\t\tand 2 + 3 is 5\n",
    "```"
   ]
  },
  {
   "cell_type": "markdown",
   "metadata": {},
   "source": [
    "### Question 5\n",
    "Evaluate the following using the environment model:\n",
    "\n",
    "```OCaml\n",
    "let f = fst( let x = 3 in fun y -> x, 2) in f 0\n",
    "```"
   ]
  },
  {
   "cell_type": "markdown",
   "metadata": {},
   "source": [
    "#### Answer\n",
    "\n",
    "```OCaml\n",
    " <[], let f = fst (let x = 3 in fun y -> x, 2) in f 0> ==> 3\n",
    "\t\tbecause <[], fst (let x = 3 in fun y -> x, 2) ==> {fun y -> x | [x -> 3]}\n",
    "\t\t\tbecause <[], (let x = 3 in fun y -> x, 2)> ==> ({fun y -> x | [x -> 3]}, 2)\n",
    "\t\t\t\tbecause <[], let x = 3 in fun y -> x> ==> {fun y -> x | [x -> 3]}\n",
    "\t\t\t\t\tbecause <[], 3> ==> 3\n",
    "\t\t\t\t\tand <[x -> 3, fun y -> x> ==> {fun y -> x | [x->3]}\n",
    "\t\t\t\tand <[], 2> ==> 2\n",
    "\t\tand <[f->{fun y -> x | [x -> 3]}], f 0> ==> 3\n",
    "\t\t\tbecause <[f->{fun y -> x | [x -> 3]}], f> ==> {fun y -> x | [x -> 3]}\n",
    "\t\t\tand <[f->{fun y->x | [x->3]}], 0> ==> 0\n",
    "\t\t\tand <[y->0;x->3], x> ==> 3\n",
    "\t\t\t\tbecuase env(x) ==> 3\n",
    "```"
   ]
  },
  {
   "cell_type": "markdown",
   "metadata": {},
   "source": [
    "### Question 6\n",
    "\n",
    "Evaluate the following with dynamic scope:\n",
    "\n",
    "```OCaml\n",
    "let f y = x + y in \n",
    "let x = 3 in \n",
    "let y = 4 in \n",
    "f 2\n",
    "```"
   ]
  },
  {
   "cell_type": "markdown",
   "metadata": {},
   "source": [
    "#### Answer \n",
    "\n",
    "The answer is 5.\n",
    "\n",
    "For dynamic scope, remember to update the variables everytime you see them. At the end, x = 3 and y = 2 since when 2 is applied to f, y gets overwritten."
   ]
  },
  {
   "cell_type": "markdown",
   "metadata": {},
   "source": [
    "# Induction\n",
    "\n",
    "Induction is pretty straight forward. Remember to state your inductive hypothesis and your base case and use them to prove the inductive case. The proofs all follow pretty much the same template. If you feel stuck, recheck your inductive hypothesis as it might be incorrect."
   ]
  },
  {
   "cell_type": "markdown",
   "metadata": {},
   "source": [
    "### Question 7\n",
    "\n",
    "Prove that for all integers a and natural numbers x, \n",
    "```OCaml\n",
    "exp a x ~ a ** x\n",
    "```\n",
    " and where exp is defined as:\n",
    " ```OCaml\n",
    " let rec exp a x = \n",
    "     if x = 0 then 1 \n",
    "     else a * (exp a (x - 1)\n",
    "```"
   ]
  },
  {
   "cell_type": "markdown",
   "metadata": {},
   "source": [
    "#### Answer\n",
    "\n",
    "Theorem: for all ints a, for all naturals x,\n",
    "```OCaml\n",
    "exp a x ~ a ** x\n",
    "```\n",
    "\n",
    "Proof: by induction on x\n",
    "\n",
    "Base Case : x = 0\n",
    "```OCaml\n",
    "exp a x\n",
    "~ 1 -- eval of exp\n",
    "~ a ** 0 -- math\n",
    "```\n",
    "\n",
    "Inductive Case: x = k + 1, where k >= 0\n",
    "Inductive Hypothesis: Assume for all a, and for all i <= k, exp a i ~ a \\*\\* i\n",
    "\n",
    "```OCaml\n",
    "exp a (k + 1)\n",
    "~ a * (exp a (k + 1 - 1)) -- eval of exp\n",
    "~ a * (exp a k) -- math, congruence\n",
    "~ a * a ** k -- I.H.\n",
    "~ a ** (k + 1) -- math\n",
    "```"
   ]
  },
  {
   "cell_type": "markdown",
   "metadata": {},
   "source": [
    "Good Luck!"
   ]
  }
 ],
 "metadata": {
  "kernelspec": {
   "display_name": "OCaml",
   "language": "ocaml",
   "name": "iocaml-kernel"
  },
  "language_info": {
   "name": "ocaml",
   "version": "4.1.0"
  }
 },
 "nbformat": 4,
 "nbformat_minor": 0
}
